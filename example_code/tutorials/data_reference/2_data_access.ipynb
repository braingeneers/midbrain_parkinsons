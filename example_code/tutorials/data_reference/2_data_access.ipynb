{
 "cells": [
  {
   "cell_type": "markdown",
   "id": "115864ba",
   "metadata": {},
   "source": [
    "<font size=7>Braingeneers Data Access"
   ]
  },
  {
   "cell_type": "markdown",
   "id": "f8aa8c07",
   "metadata": {},
   "source": [
    "This notebooks explains how to access all of the original datasets used in thise research. from their cloud location. Specifically, we describe how to download datasets from the braingeneers cloud, [the NRP](https://nationalresearchplatform.org/), into this codespace. Note that these necessary datasets have already been downloaded through code written in the `/.devcontainer/post_create.sh` files. These commands are more for if you want to download additional datasets or create your own. Be *very* careful when running these commands. You do not want to be the person that deletes an important dataset from the server. \n"
   ]
  },
  {
   "cell_type": "markdown",
   "id": "0c61d0f2",
   "metadata": {},
   "source": [
    "\n",
    "To run most of these commands you will need to have a `credentials` file for accessing the NRP. If you do not have a credentials file, ask David Parks for it. Once you have a credentials file, put it in the folder `/home/jovyan/.aws/` in order to run these commands.\n"
   ]
  },
  {
   "cell_type": "markdown",
   "id": "11db3cc5",
   "metadata": {},
   "source": [
    "# Commands"
   ]
  },
  {
   "cell_type": "markdown",
   "id": "95fa63bc",
   "metadata": {},
   "source": [
    "The braingeneers uses the [National Research Platform](https://nationalresearchplatform.org/) for all of our data storage and cloud computing needs. You can think of the NRP as our version of AWS. Here we will focus only on accessing data, and not [cloud computing](https://github.com/braingeneers/wiki/blob/main/shared/prp_quickstart.md). To keep things from getting messy, we organize all of our datasets according to a [specific protocol](https://github.com/braingeneers/wiki/blob/main/api_data/organizing-data.md). Data is then uploaded and downloaded [using S3](https://github.com/braingeneers/wiki/blob/main/shared/prp_storage.md). This notebooks shows how you can use S3 commands to access data using the terminal. If you check the S3 reference you'll find that there's there also other ways to access the datasets using python code with the braingeneers packages `smart_open` and `awscli`.\n"
   ]
  },
  {
   "cell_type": "markdown",
   "id": "720da70f",
   "metadata": {},
   "source": [
    "<font color=\"orange\">\n",
    "\n",
    "**Note:** Commands like these should be run in the terminal, not a python notebook"
   ]
  },
  {
   "cell_type": "markdown",
   "id": "6fe8f74d",
   "metadata": {},
   "source": [
    "## `ls` command"
   ]
  },
  {
   "cell_type": "markdown",
   "id": "eb65a6b9",
   "metadata": {},
   "source": [
    "This commands lists everything that is in a specified file path. "
   ]
  },
  {
   "cell_type": "markdown",
   "id": "6da1344a",
   "metadata": {},
   "source": [
    "The directory, `s3://braingeneers/ephys/` contains all of the electrophysiology datasets"
   ]
  },
  {
   "cell_type": "markdown",
   "id": "87f2f9b8",
   "metadata": {},
   "source": [
    "```\n",
    "aws --endpoint https://s3.braingeneers.gi.ucsc.edu s3 ls s3://braingeneers/ephys/\n",
    "```"
   ]
  },
  {
   "cell_type": "markdown",
   "id": "636527e8",
   "metadata": {},
   "source": [
    "the dev environment is where you can put your own code."
   ]
  },
  {
   "cell_type": "markdown",
   "id": "6d00026c",
   "metadata": {},
   "source": [
    "**Data Access-** There are **8** datasets that were primarily used in our analysis. Theses datasets are stored on the `NRP` and then downloaded into this codespace environment for analysis. The file `.devcontainer/post_create.sh` contains the code for downloading the datasets into codespaces. The data can be found in the codespace inside the folder `/home/jovyan/data`. [This spreadsheet](https://docs.google.com/spreadsheets/d/1tRImtehZgh903DIHZXECLz30lXYZLV3-G8vb_HWJXaA) provides a summary of evey file. Below is a more general summary of each slice we recorded from:\n",
    "\n",
    "<font color=\"orange\"> \n",
    "\n",
    "**Note:** There is a 5th dataset used in John Andrew's paper, however it's probably not useful. With bicuculline, the dataset had 6 neurons."
   ]
  },
  {
   "cell_type": "markdown",
   "id": "51eec029",
   "metadata": {},
   "source": [
    "```\n",
    "aws --endpoint https://s3.braingeneers.gi.ucsc.edu s3 ls s3://braingeneersdev/\n",
    "```"
   ]
  },
  {
   "cell_type": "markdown",
   "id": "d03e2e43",
   "metadata": {},
   "source": [
    "## `cp` command"
   ]
  },
  {
   "cell_type": "markdown",
   "id": "e3db7c32",
   "metadata": {},
   "source": [
    "This command is very powerful. It is used for both creating new datasets on the NRP, and for downloading datasets from the NRP. Be careful, it's very easy to accidentally overwrite valuable datasets using this command."
   ]
  },
  {
   "cell_type": "markdown",
   "id": "e85ce035",
   "metadata": {},
   "source": [
    "[cp command documentation](https://docs.aws.amazon.com/cli/latest/reference/s3/cp.html)"
   ]
  },
  {
   "cell_type": "markdown",
   "id": "5dace809",
   "metadata": {},
   "source": [
    "**Downloading data** to the current folder you are in on the terminal"
   ]
  },
  {
   "cell_type": "markdown",
   "id": "c1af469a",
   "metadata": {},
   "source": [
    "```\n",
    "aws --endpoint https://s3.braingeneers.gi.ucsc.edu s3 cp s3://braingeneers/ephys/2023-04-03-hc328b_ChR2/ . --recursive\n",
    "```"
   ]
  },
  {
   "cell_type": "markdown",
   "id": "7bbd0961",
   "metadata": {},
   "source": [
    "**Uploading data** to the NRP"
   ]
  },
  {
   "cell_type": "markdown",
   "id": "7dd3aabf",
   "metadata": {},
   "source": [
    "```\n",
    "aws --endpoint https://s3.braingeneers.gi.ucsc.edu s3 cp  . s3://braingeneers/ephys/folder_name/ --recursive\n",
    "```"
   ]
  },
  {
   "cell_type": "markdown",
   "id": "3801bf89",
   "metadata": {},
   "source": [
    "## Public Buckets"
   ]
  },
  {
   "cell_type": "markdown",
   "id": "0a9af9e9",
   "metadata": {},
   "source": [
    "This is the command used to upload a dataset to the NRP in such a way, where anyone can download the dataset, even if they don't have a credentials file."
   ]
  },
  {
   "cell_type": "markdown",
   "id": "984a258f",
   "metadata": {},
   "source": [
    "```\n",
    "aws --endpoint https://s3.braingeneers.gi.ucsc.edu s3 cp  . s3://braingeneers/ephys/folder_name/ --recursive  --acl public-read\n",
    "```"
   ]
  },
  {
   "cell_type": "markdown",
   "id": "dab164e1",
   "metadata": {},
   "source": [
    "The dataset can then be downloaded by other using a command like:\n",
    "\n",
    "```\n",
    "aws --endpoint https://s3.braingeneers.gi.ucsc.edu s3 cp s3://braingeneers/ephys/folder_name . --recursive\n",
    "```\n",
    "\n"
   ]
  },
  {
   "cell_type": "markdown",
   "id": "556a80a5",
   "metadata": {},
   "source": [
    "<font color=\"red\">\n",
    "\n",
    "Note: Supposedly you can use a command like the one below to make an already existing data public, however, I have never gotten this to work.\n",
    "\n",
    "```\n",
    "aws --endpoint https://s3.braingeneers.gi.ucsc.edu  s3api put-object-acl --bucket s3://braingeneers/ephys/2023-04-02-e-hc328_unperturbed/  --acl public-read\n",
    "```"
   ]
  },
  {
   "cell_type": "markdown",
   "id": "ebc94f83",
   "metadata": {},
   "source": [
    "<font color=\"red\"> Scratch paper below"
   ]
  },
  {
   "cell_type": "markdown",
   "id": "b8962390",
   "metadata": {},
   "source": [
    "aws --endpoint https://s3.braingeneers.gi.ucsc.edu  s3api put-object-acl --bucket braingeneers --key s3://braingeneers/ephys/2023-11-13-e-Hc110723_hckcr1_21841/derived/ --acl public-read"
   ]
  },
  {
   "cell_type": "markdown",
   "id": "657f92b5",
   "metadata": {},
   "source": [
    "aws --endpoint https://s3.braingeneers.gi.ucsc.edu s3 ls s3://braingeneers/ephys/2023-11-13-e-Hc110723_hckcr1_21841/derived/"
   ]
  },
  {
   "cell_type": "markdown",
   "id": "a28cbb1c",
   "metadata": {},
   "source": []
  }
 ],
 "metadata": {
  "hide_input": false,
  "kernelspec": {
   "display_name": "Python 3 (ipykernel)",
   "language": "python",
   "name": "python3"
  },
  "language_info": {
   "codemirror_mode": {
    "name": "ipython",
    "version": 3
   },
   "file_extension": ".py",
   "mimetype": "text/x-python",
   "name": "python",
   "nbconvert_exporter": "python",
   "pygments_lexer": "ipython3",
   "version": "3.10.0"
  },
  "toc": {
   "base_numbering": 1,
   "nav_menu": {},
   "number_sections": true,
   "sideBar": true,
   "skip_h1_title": false,
   "title_cell": "Table of Contents",
   "title_sidebar": "Contents",
   "toc_cell": false,
   "toc_position": {},
   "toc_section_display": true,
   "toc_window_display": false
  },
  "varInspector": {
   "cols": {
    "lenName": 16,
    "lenType": 16,
    "lenVar": 40
   },
   "kernels_config": {
    "python": {
     "delete_cmd_postfix": "",
     "delete_cmd_prefix": "del ",
     "library": "var_list.py",
     "varRefreshCmd": "print(var_dic_list())"
    },
    "r": {
     "delete_cmd_postfix": ") ",
     "delete_cmd_prefix": "rm(",
     "library": "var_list.r",
     "varRefreshCmd": "cat(var_dic_list()) "
    }
   },
   "types_to_exclude": [
    "module",
    "function",
    "builtin_function_or_method",
    "instance",
    "_Feature"
   ],
   "window_display": false
  }
 },
 "nbformat": 4,
 "nbformat_minor": 5
}
