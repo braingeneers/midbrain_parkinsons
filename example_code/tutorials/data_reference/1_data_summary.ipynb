{
 "cells": [
  {
   "cell_type": "markdown",
   "metadata": {},
   "source": [
    "<font size=7>Data Summary"
   ]
  },
  {
   "cell_type": "markdown",
   "metadata": {},
   "source": [
    "Here we summarize all the datasets used in our research."
   ]
  },
  {
   "cell_type": "markdown",
   "metadata": {},
   "source": [
    "# Briefy Summary"
   ]
  },
  {
   "cell_type": "markdown",
   "metadata": {},
   "source": [
    "**Data Access-** There are **8** datasets that were primarily used in our analysis. Theses datasets are stored on the `NRP` and then downloaded into this codespace environment for analysis. The file `.devcontainer/post_create.sh` contains the code for downloading the datasets into codespaces. The data can be found in the codespace inside the folder `/home/jovyan/data`. [This spreadsheet](https://docs.google.com/spreadsheets/d/1tRImtehZgh903DIHZXECLz30lXYZLV3-G8vb_HWJXaA) provides a summary of evey file. Below is a more general summary of each slice we recorded from:\n",
    "\n",
    "<font color=\"orange\"> \n",
    "\n",
    "**Note:** There is a 5th dataset used in John Andrew's paper, however it's probably not useful. With bicuculline, the dataset had 6 neurons."
   ]
  },
  {
   "cell_type": "markdown",
   "metadata": {},
   "source": [
    "**hc9.19- Infant Dentate Gyrus** <font color=\"magenta\"><b>*</b></font>   <small> Displays seizure activity. Not many neurons. No histology image.</small>\n",
    "* UUID: `2022-10-20-e-` \n",
    "\n",
    "**hc3.28- ?Anterior? CA1** <font color=\"magenta\"><b>*</b></font> <small>Best recording. Many neurons</small>\n",
    "* UUID: `2023-04-02-e-hc328_unperturbed` \n",
    "\n",
    "**hc11.1- Adult Dentat Gyrus** <font color=\"green\"><b>*</b></font> <small>Good recording, many neurons</small>\n",
    "* UUID: `2022-11-02-e-Hc11.1-chip16753` <font color=\"magenta\"><b>*</b></font> <font color=\"green\"><b>*</b></font>\n",
    "\n",
    "**hc5.2- ?Posterior? CA1 Region**  <font color=\"green\"><b>*</b></font> <small>Short recording (1.5min). Good activity.</small>\n",
    "* UUID: `2023-05-10-e-hc52_18790_unperturbed`\n",
    "* UUID (bicuculline): `2023-05-10-e-hc52_18790`\n",
    "\n",
    "**hc110723- Dentate Gyrus 3** <font color=\"blue\"><b>*</b></font>\n",
    "* UUID: `2023-11-13-e-Hc110723_hckcr1_21841` \n",
    "\n",
    "**hc112823- Dentate Gyrus 4** <font color=\"blue\"><b>*</b></font> <small>Great Activity. 2 unperturbed recordings. </small>\n",
    "* UUID: `2023-12-03-e-Hc112823_avv9hckcr1` \n",
    "\n",
    "**hc21769- Dentate Gyrus 5** <font color=\"blue\"><b>*</b></font> <small> Great activity.</small>\n",
    "* UUID: `2023-12-11-e-Hc120523_aav9hckcr1_chip21769`\n",
    "\n",
    "**hc21774- Dentate Gyrus 6** <font color=\"blue\"><b>*</b></font> <small>Questionable activity</small>\n",
    "* UUID: `2023-12-11-e-Hc120523_aav9hckcr1_chip21774`\n",
    "\n",
    ".\n",
    "\n",
    "<font color=\"magenta\"><b>*</b></font> No Drug\n",
    "\n",
    "<font color=\"green\"><b>*</b></font>  Experiments with Bicuculline Data\n",
    "\n",
    "<font color=\"blue\"><b>*</b></font> Experiments with Kainic acid\n",
    "\n"
   ]
  },
  {
   "cell_type": "markdown",
   "metadata": {},
   "source": [
    "# <font color=\"magenta\"> No Drug Datasets "
   ]
  },
  {
   "cell_type": "markdown",
   "metadata": {},
   "source": [
    "**hc9.19- Infant Dentate Gyrus**\n",
    "* Summary: Displays seizure activity. Not many neurons, but long recording. No histology image.\n",
    "* **UUID**: 2022-10-20-e-\n",
    "* **Spike Data**: /workspaces/human_hippocampus/data/ephys/2022-10-20-e-/derived/kilosort2/hc9.19_chp-16849_plated-10.19.22_rec10.19.22_curated.zip\n",
    "\n",
    "**hc3.28- ?Anterior? CA1** \n",
    "* Summary: Best recording. Many neurons\n",
    "* **UUID**: 2023-04-02-e-hc328_unperturbed\n",
    "    * UUID (Unused): 2023-04-02-hc328_rec (optogenetics, but no bicuculline)\n",
    "* **Spike Data** (curated): /workspaces/human_hippocampus/data/ephys/2023-04-02-e-hc328_unperturbed/sd_ca1_curated.pkl\n",
    "    * Spike Data (original): /workspaces/human_hippocampus/data/ephys/2023-04-02-e-hc328_unperturbed/derived/kilosort2/hc3.28_hckcr1_chip16835_plated34.2_rec4.2_curated.zip\n",
    "    \n",
    "**hc11.1- Adult Dentat Gyrus** \n",
    "* Summary: Good recording, many neurons\n",
    "* **UUID**: 2022-11-02-e-Hc11.1-chip16753\n",
    "* **Spike Data**: /workspaces/human_hippocampus/data/ephys/2022-11-02-e-Hc11.1-chip16753/derived/kilosort2/hc11.1_plated-11.1_chip-16753_rec_11.2.22AM-immediate_curated.zip\n",
    "* **Raw Data**: hc11.1_plated-11.1_chip-16753_rec_11.2.22AM-immediate.raw.h5\n",
    "\n",
    "**hc5.2- ?Posterior? CA1 Region**  \n",
    "* Summary: Short recording (1.5min). Good activity.\n",
    "* **UUID**: 2023-05-10-e-hc52_18790_unperturbed\n",
    "* **Spike Data** (curated): /workspaces/human_hippocampus/data/ephys/2023-05-10-e-hc52_18790_unperturbed/5-10-23s1-CutData.pkl\n",
    "    * Spike Data (original): /workspaces/human_hippocampus/data/ephys/2023-05-10-e-hc52_18790_unperturbed/derived/kilosort2/hc5.2_chip18790_baseline_rec5.10.23_curated_s1.zip\n",
    "\n",
    "**hc110723- Dentate Gyrus 3** \n",
    "* **UUID**: 2023-11-13-e-Hc110723_hckcr1_21841\n",
    "\n",
    "**hc112823- Dentate Gyrus 4** \n",
    "* **UUID**: 2023-12-03-e-Hc112823_avv9hckcr1"
   ]
  },
  {
   "cell_type": "markdown",
   "metadata": {},
   "source": [
    "# <font color=\"green\"> Bicuculline Datasets"
   ]
  },
  {
   "cell_type": "markdown",
   "metadata": {},
   "source": [
    "**hc11.1- Adult Dentat Gyrus** <small>good long unperturbed bicuculline dataset</small>\n",
    "* **UUID**: 2022-11-02-e-Hc11.1-chip16753\n",
    "* **Raw Data** (Bicuculline): hc11.1_plated-11.1_chip-16753_rec_11.2.22AM-immediate_D.raw.h5\n",
    "* <font color=\"orange\">Note- the bicuculline spike data `hc11.1_plated-11.1_chip-16753_rec_11.2.22AM-immediate_D_phy` has yet to be curated by Sury, so we can not access the spike data</font>\n",
    "\n",
    "\n",
    "**hc5.2- ?Posterior? CA1 Region**  <small>Sketchy data. Maybe have 30 sec of data before closed loop starts.</small>\n",
    "* **UUID**: 2023-05-10-e-hc52_18790"
   ]
  },
  {
   "cell_type": "markdown",
   "metadata": {},
   "source": [
    "# <font color=\"blue\"> Kainic Acid Datasets"
   ]
  },
  {
   "cell_type": "code",
   "execution_count": null,
   "metadata": {},
   "outputs": [],
   "source": []
  },
  {
   "cell_type": "code",
   "execution_count": null,
   "metadata": {},
   "outputs": [],
   "source": []
  },
  {
   "cell_type": "code",
   "execution_count": null,
   "metadata": {},
   "outputs": [],
   "source": []
  },
  {
   "cell_type": "code",
   "execution_count": null,
   "metadata": {},
   "outputs": [],
   "source": []
  }
 ],
 "metadata": {
  "kernelspec": {
   "display_name": "notebook",
   "language": "python",
   "name": "python3"
  },
  "language_info": {
   "codemirror_mode": {
    "name": "ipython",
    "version": 3
   },
   "file_extension": ".py",
   "mimetype": "text/x-python",
   "name": "python",
   "nbconvert_exporter": "python",
   "pygments_lexer": "ipython3",
   "version": "3.10.0"
  },
  "orig_nbformat": 4
 },
 "nbformat": 4,
 "nbformat_minor": 2
}
