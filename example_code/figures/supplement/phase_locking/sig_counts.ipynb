{
 "cells": [
  {
   "cell_type": "markdown",
   "metadata": {},
   "source": [
    "<font size=7> Phase Locking Counts"
   ]
  },
  {
   "cell_type": "code",
   "execution_count": 1,
   "metadata": {},
   "outputs": [],
   "source": [
    "import pickle\n",
    "import numpy as np\n",
    "import matplotlib.pyplot as plt"
   ]
  },
  {
   "cell_type": "markdown",
   "metadata": {},
   "source": [
    "# Chip 21769 - seziure"
   ]
  },
  {
   "cell_type": "code",
   "execution_count": 2,
   "metadata": {},
   "outputs": [
    {
     "name": "stdout",
     "output_type": "stream",
     "text": [
      "Total- 180\n",
      "Significant- 101\n",
      "Percent- 0.5611111111111111\n"
     ]
    }
   ],
   "source": [
    "with open( \"2023-12-11-e-Hc120523_aav9hckcr1_chip21769_theta_spike_locking_s.pkl\", 'rb') as file:\n",
    "    data = pickle.load(file)\n",
    "print( \"Total-\", len(data[\"mean_angle\"]) )\n",
    "print( \"Significant-\", sum( data[\"rayleigh_p\"]<0.05 ) )\n",
    "print( \"Percent-\", sum( data[\"rayleigh_p\"]<0.05 )/len(data[\"mean_angle\"]) )\n"
   ]
  },
  {
   "cell_type": "markdown",
   "metadata": {},
   "source": [
    "# Chip 21769 - nonseizure"
   ]
  },
  {
   "cell_type": "code",
   "execution_count": 5,
   "metadata": {},
   "outputs": [
    {
     "name": "stdout",
     "output_type": "stream",
     "text": [
      "Total- 180\n",
      "Significant- 8\n",
      "Percent- 0.044444444444444446\n"
     ]
    }
   ],
   "source": [
    "with open( \"2023-12-11-e-Hc120523_aav9hckcr1_chip21769_theta_spike_locking_ns.pkl\", 'rb') as file:\n",
    "    data = pickle.load(file)\n",
    "print( \"Total-\", len(data[\"mean_angle\"]) )\n",
    "print( \"Significant-\", sum( data[\"rayleigh_p\"]<0.05 ) )\n",
    "print( \"Percent-\", sum( data[\"rayleigh_p\"]<0.05 )/len(data[\"mean_angle\"]) )"
   ]
  },
  {
   "cell_type": "markdown",
   "metadata": {},
   "source": [
    "# <font color=\"grey\">OLD - Chip 21769 - seziure"
   ]
  },
  {
   "cell_type": "code",
   "execution_count": 26,
   "metadata": {},
   "outputs": [
    {
     "name": "stdout",
     "output_type": "stream",
     "text": [
      "Total- 55\n",
      "Significant- 11\n",
      "Percent- 0.2\n"
     ]
    }
   ],
   "source": [
    "with open( \"OLD_2023-12-11-e-Hc120523_aav9hckcr1_chip21769_theta_spike_locking_s.pkl\", 'rb') as file:\n",
    "    data = pickle.load(file)\n",
    "print( \"Total-\", len(data[\"mean_angle\"]) )\n",
    "print( \"Significant-\", sum( data[\"rayleigh_p\"]<0.05 ) )\n",
    "print( \"Percent-\", sum( data[\"rayleigh_p\"]<0.05 )/len(data[\"mean_angle\"]) )\n"
   ]
  },
  {
   "cell_type": "code",
   "execution_count": 3,
   "metadata": {},
   "outputs": [
    {
     "data": {
      "text/plain": [
       "array([-2.39817634, -2.2030651 , -0.52179282, -0.01006653, -2.74854295,\n",
       "        0.4364931 ,  2.44399853,  1.82428797, -1.08852639, -1.95318037,\n",
       "       -2.10714642,  1.17757158, -2.08886582,  2.17850022,         nan,\n",
       "       -2.04079908,         nan,  1.20087396,  1.69846401, -2.28977149,\n",
       "        2.30211798, -2.37592584, -2.69502452, -2.50230522,  2.77623221,\n",
       "        0.81785153, -0.75685931,  0.88498922, -1.06728501, -0.53618819,\n",
       "       -1.25913877,  0.5229115 ,  0.58394412,  0.20561235, -1.45419777,\n",
       "       -2.87562654, -1.63671048,  3.13766396, -0.37207634, -0.94702879,\n",
       "        0.81361723,  0.47384899, -1.26778903,  0.68128428,  1.1422138 ,\n",
       "       -2.62654258,  2.48549532,  0.5318436 , -1.72711128, -1.19796042,\n",
       "        1.50523621, -2.36634888, -2.52942543,  1.1167163 , -0.03872398])"
      ]
     },
     "execution_count": 3,
     "metadata": {},
     "output_type": "execute_result"
    }
   ],
   "source": [
    "angles"
   ]
  },
  {
   "cell_type": "markdown",
   "metadata": {},
   "source": [
    "# <font color=\"grey\">OLD - Chipc 21769 - nonseizure"
   ]
  },
  {
   "cell_type": "code",
   "execution_count": 27,
   "metadata": {},
   "outputs": [
    {
     "name": "stdout",
     "output_type": "stream",
     "text": [
      "Total- 55\n",
      "Significant- 4\n",
      "Percent- 0.07272727272727272\n"
     ]
    }
   ],
   "source": [
    "with open( \"OLD_2023-12-11-e-Hc120523_aav9hckcr1_chip21769_theta_spike_locking_ns.pkl\", 'rb') as file:\n",
    "    data = pickle.load(file)\n",
    "print( \"Total-\", len(data[\"mean_angle\"]) )\n",
    "print( \"Significant-\", sum( data[\"rayleigh_p\"]<0.05 ) )\n",
    "print( \"Percent-\", sum( data[\"rayleigh_p\"]<0.05 )/len(data[\"mean_angle\"]) )"
   ]
  },
  {
   "cell_type": "markdown",
   "metadata": {},
   "source": [
    "# HC112823 - seizure"
   ]
  },
  {
   "cell_type": "code",
   "execution_count": 24,
   "metadata": {},
   "outputs": [
    {
     "name": "stdout",
     "output_type": "stream",
     "text": [
      "Total- 212\n",
      "Significant- 70\n",
      "Percent- 0.330188679245283\n"
     ]
    }
   ],
   "source": [
    "with open( \"2023-12-03-e-Hc112823_avv9hckcr1_acid1_theta_spike_locking_s.pkl\", 'rb') as file:\n",
    "    data = pickle.load(file)\n",
    "print( \"Total-\", len(data[\"mean_angle\"]) )\n",
    "print( \"Significant-\", sum( data[\"rayleigh_p\"]<0.05 ) )\n",
    "print( \"Percent-\", sum( data[\"rayleigh_p\"]<0.05 )/len(data[\"mean_angle\"]) )"
   ]
  },
  {
   "cell_type": "markdown",
   "metadata": {},
   "source": [
    "# HC112823 - nonseizure"
   ]
  },
  {
   "cell_type": "code",
   "execution_count": 25,
   "metadata": {},
   "outputs": [
    {
     "name": "stdout",
     "output_type": "stream",
     "text": [
      "Total- 212\n",
      "Significant- 11\n",
      "Percent- 0.05188679245283019\n"
     ]
    }
   ],
   "source": [
    "with open( \"2023-12-03-e-Hc112823_avv9hckcr1_acid1_theta_spike_locking_ns.pkl\", 'rb') as file:\n",
    "    data = pickle.load(file)\n",
    "print( \"Total-\", len(data[\"mean_angle\"]) )\n",
    "print( \"Significant-\", sum( data[\"rayleigh_p\"]<0.05 ) )\n",
    "print( \"Percent-\", sum( data[\"rayleigh_p\"]<0.05 )/len(data[\"mean_angle\"]) )"
   ]
  },
  {
   "cell_type": "code",
   "execution_count": null,
   "metadata": {},
   "outputs": [],
   "source": []
  },
  {
   "cell_type": "code",
   "execution_count": null,
   "metadata": {},
   "outputs": [],
   "source": []
  },
  {
   "cell_type": "code",
   "execution_count": null,
   "metadata": {},
   "outputs": [],
   "source": []
  }
 ],
 "metadata": {
  "language_info": {
   "name": "python"
  }
 },
 "nbformat": 4,
 "nbformat_minor": 2
}
